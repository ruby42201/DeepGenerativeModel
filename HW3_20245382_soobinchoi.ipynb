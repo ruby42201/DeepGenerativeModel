{
  "cells": [
    {
      "cell_type": "code",
      "execution_count": 1,
      "metadata": {},
      "outputs": [
        {
          "name": "stdout",
          "output_type": "stream",
          "text": [
            "Requirement already satisfied: numpy in ./dgm_venv/lib/python3.9/site-packages (1.26.4)\n",
            "Requirement already satisfied: wheel in ./dgm_venv/lib/python3.9/site-packages (0.43.0)\n",
            "Requirement already satisfied: torch in ./dgm_venv/lib/python3.9/site-packages (2.3.0)\n",
            "Requirement already satisfied: torchvision in ./dgm_venv/lib/python3.9/site-packages (0.18.0)\n",
            "Requirement already satisfied: matplotlib in ./dgm_venv/lib/python3.9/site-packages (3.8.4)\n",
            "Requirement already satisfied: scipy in ./dgm_venv/lib/python3.9/site-packages (1.13.0)\n",
            "Requirement already satisfied: opencv-python in ./dgm_venv/lib/python3.9/site-packages (4.9.0.80)\n",
            "Requirement already satisfied: tqdm in ./dgm_venv/lib/python3.9/site-packages (4.66.4)\n",
            "Requirement already satisfied: networkx in ./dgm_venv/lib/python3.9/site-packages (from torch) (3.2.1)\n",
            "Requirement already satisfied: fsspec in ./dgm_venv/lib/python3.9/site-packages (from torch) (2024.3.1)\n",
            "Requirement already satisfied: sympy in ./dgm_venv/lib/python3.9/site-packages (from torch) (1.12)\n",
            "Requirement already satisfied: typing-extensions>=4.8.0 in ./dgm_venv/lib/python3.9/site-packages (from torch) (4.11.0)\n",
            "Requirement already satisfied: filelock in ./dgm_venv/lib/python3.9/site-packages (from torch) (3.14.0)\n",
            "Requirement already satisfied: jinja2 in ./dgm_venv/lib/python3.9/site-packages (from torch) (3.1.3)\n",
            "Requirement already satisfied: pillow!=8.3.*,>=5.3.0 in ./dgm_venv/lib/python3.9/site-packages (from torchvision) (10.3.0)\n",
            "Requirement already satisfied: kiwisolver>=1.3.1 in ./dgm_venv/lib/python3.9/site-packages (from matplotlib) (1.4.5)\n",
            "Requirement already satisfied: contourpy>=1.0.1 in ./dgm_venv/lib/python3.9/site-packages (from matplotlib) (1.2.1)\n",
            "Requirement already satisfied: packaging>=20.0 in ./dgm_venv/lib/python3.9/site-packages (from matplotlib) (24.0)\n",
            "Requirement already satisfied: cycler>=0.10 in ./dgm_venv/lib/python3.9/site-packages (from matplotlib) (0.12.1)\n",
            "Requirement already satisfied: pyparsing>=2.3.1 in ./dgm_venv/lib/python3.9/site-packages (from matplotlib) (3.1.2)\n",
            "Requirement already satisfied: python-dateutil>=2.7 in ./dgm_venv/lib/python3.9/site-packages (from matplotlib) (2.9.0.post0)\n",
            "Requirement already satisfied: fonttools>=4.22.0 in ./dgm_venv/lib/python3.9/site-packages (from matplotlib) (4.51.0)\n",
            "Requirement already satisfied: importlib-resources>=3.2.0 in ./dgm_venv/lib/python3.9/site-packages (from matplotlib) (6.4.0)\n",
            "Requirement already satisfied: zipp>=3.1.0 in ./dgm_venv/lib/python3.9/site-packages (from importlib-resources>=3.2.0->matplotlib) (3.18.1)\n",
            "Requirement already satisfied: six>=1.5 in ./dgm_venv/lib/python3.9/site-packages (from python-dateutil>=2.7->matplotlib) (1.16.0)\n",
            "Requirement already satisfied: MarkupSafe>=2.0 in ./dgm_venv/lib/python3.9/site-packages (from jinja2->torch) (2.1.5)\n",
            "Requirement already satisfied: mpmath>=0.19 in ./dgm_venv/lib/python3.9/site-packages (from sympy->torch) (1.3.0)\n",
            "\u001b[33mWARNING: You are using pip version 21.2.4; however, version 24.0 is available.\n",
            "You should consider upgrading via the '/Users/sov/Documents/Deep Generative Model/dgm_venv/bin/python -m pip install --upgrade pip' command.\u001b[0m\n",
            "Note: you may need to restart the kernel to use updated packages.\n",
            "Requirement already satisfied: pip in ./dgm_venv/lib/python3.9/site-packages (21.2.4)\n",
            "Collecting pip\n",
            "  Using cached pip-24.0-py3-none-any.whl (2.1 MB)\n",
            "Installing collected packages: pip\n",
            "  Attempting uninstall: pip\n",
            "    Found existing installation: pip 21.2.4\n",
            "    Uninstalling pip-21.2.4:\n",
            "      Successfully uninstalled pip-21.2.4\n",
            "Successfully installed pip-24.0\n",
            "Note: you may need to restart the kernel to use updated packages.\n"
          ]
        }
      ],
      "source": [
        "%pip install numpy wheel torch torchvision matplotlib scipy opencv-python tqdm\n",
        "%pip install --upgrade pip"
      ]
    },
    {
      "cell_type": "markdown",
      "metadata": {
        "id": "VtqwhK9q9D-h"
      },
      "source": [
        "# Getting Started\n",
        "\n",
        "## Overview\n",
        "This semester, all homeworks will be conducted through Google Colab notebooks. All code for the homework assignment will be written and run in this notebook. Running in Colab will automatically provide a GPU, but you may also run this notebook locally by following [these instructions](https://research.google.com/colaboratory/local-runtimes.html) if you wish to use your own GPU.\n",
        "\n",
        "You will save images in the notebooks to use and fill out a given LaTeX template which will be submitted to Gradescope, along with your notebook code.\n",
        "\n",
        "## Using Colab\n",
        "On the left-hand side, you can click the different icons to see a Table of Contents of the assignment, as well as local files accessible through the notebook.\n",
        "\n",
        "Make sure to go to **Runtime -> Change runtime type** and select **GPU** as the hardware accelerator. This allows you to use a GPU. Run the cells below to get started on the assignment. Note that a session is open for a maximum of 12 hours, and using too much GPU compute may result in restricted access for a short period of time. Please start the homework early so you have ample time to work.\n",
        "\n",
        "**If you loaded this notebook from clicking \"Open in Colab\" from github, you will need to save it to your own Google Drive to keep your work.**\n",
        "\n",
        "## General Tips\n",
        "In each homework problem, you will implement a GAN model and run it on a dataset. We provide the expected outputs to help as a sanity check.\n",
        "\n",
        "Feel free to print whatever output (e.g. debugging code, training code, etc) you want, as the graded submission will be the submitted pdf with images.\n",
        "\n",
        "After you complete the assignment, download all of the image outputted in the results/ folder and upload them to the figure folder in the given latex template.\n",
        "\n",
        "Run the cells below to download and load up the starter code."
      ]
    },
    {
      "cell_type": "code",
      "execution_count": 4,
      "metadata": {
        "id": "sfd-DkFA9AWI"
      },
      "outputs": [
        {
          "name": "stdout",
          "output_type": "stream",
          "text": [
            "Cloning into 'deepul'...\n",
            "remote: Enumerating objects: 254, done.\u001b[K\n",
            "remote: Counting objects: 100% (72/72), done.\u001b[K\n",
            "remote: Compressing objects: 100% (40/40), done.\u001b[K\n",
            "remote: Total 254 (delta 46), reused 32 (delta 32), pack-reused 182\u001b[K\n",
            "Receiving objects: 100% (254/254), 94.70 MiB | 13.72 MiB/s, done.\n",
            "Resolving deltas: 100% (95/95), done.\n",
            "Processing ./deepul\n",
            "  Preparing metadata (setup.py) ... \u001b[?25ldone\n",
            "\u001b[?25hBuilding wheels for collected packages: deepul\n",
            "  Building wheel for deepul (setup.py) ... \u001b[?25ldone\n",
            "\u001b[?25h  Created wheel for deepul: filename=deepul-0.1.0-py3-none-any.whl size=22778 sha256=a8efe91a79ceed15cb3113248b8700ae0353f20e2f387de785038b96091b18d8\n",
            "  Stored in directory: /private/var/folders/t9/gfxwh1615kd429xj7ws0q6840000gn/T/pip-ephem-wheel-cache-05suhn1l/wheels/51/6e/35/e00075dbebf5d4241237bc23fd04cf7aa43694b099848d560c\n",
            "Successfully built deepul\n",
            "Installing collected packages: deepul\n",
            "  Attempting uninstall: deepul\n",
            "    Found existing installation: deepul 0.1.0\n",
            "    Uninstalling deepul-0.1.0:\n",
            "      Successfully uninstalled deepul-0.1.0\n",
            "Successfully installed deepul-0.1.0\n"
          ]
        }
      ],
      "source": [
        "!if [ -d deepul ]; then rm -Rf deepul; fi\n",
        "!git clone https://github.com/rll/deepul.git\n",
        "!pip install ./deepul"
      ]
    },
    {
      "cell_type": "code",
      "execution_count": 5,
      "metadata": {
        "id": "QSb6D-qQ9W7L"
      },
      "outputs": [],
      "source": [
        "from deepul.hw3_helper import *\n",
        "import deepul.pytorch_util as ptu\n",
        "import warnings\n",
        "warnings.filterwarnings('ignore')"
      ]
    },
    {
      "cell_type": "code",
      "execution_count": 6,
      "metadata": {
        "id": "HKw4PzHd6bQs"
      },
      "outputs": [],
      "source": [
        "ptu.set_gpu_mode(True)"
      ]
    },
    {
      "cell_type": "markdown",
      "metadata": {
        "id": "vYa4i0uxspaA"
      },
      "source": [
        "# Question 1: Warmup [20pt]\n",
        "\n",
        "In this question, we will train different variants of GANs on an easy 1D dataset.\n",
        "\n",
        "Execute the cell below to visualize our datasets."
      ]
    },
    {
      "cell_type": "code",
      "execution_count": 7,
      "metadata": {
        "id": "Fb5MioT8SZzN"
      },
      "outputs": [
        {
          "data": {
            "image/png": "[encoded data removed]",
            "text/plain": [
              "<Figure size 640x480 with 1 Axes>"
            ]
          },
          "metadata": {},
          "output_type": "display_data"
        }
      ],
      "source": [
        "visualize_q1_dataset()"
      ]
    },
    {
      "cell_type": "code",
      "execution_count": 8,
      "metadata": {
        "id": "osR7PW_NLRu-"
      },
      "outputs": [],
      "source": [
        "import numpy as np\n",
        "import matplotlib.pyplot as plt\n",
        "import torch\n",
        "import torch.nn as nn\n",
        "import torch.nn.functional as F\n",
        "import torch.utils.data as data\n",
        "import torch.optim as optim\n",
        "from scipy.stats import norm\n",
        "from tqdm import trange, tqdm_notebook"
      ]
    },
    {
      "cell_type": "markdown",
      "metadata": {
        "id": "WSOkSmHSL2c3"
      },
      "source": [
        "## Part 1(a)\n",
        "In this part, we'll train our generator and discriminator via the original minimax GAN objective:\n",
        "<insert GAN Objective here>\n",
        "$$min_{G} max_{D} \\mathbb{E}_{x \\sim p_{data}} [\\log D(x)] + \\mathbb{E}_{z \\sim p(z)}[\\log (1-D(G(z)))]$$\n",
        "\n",
        "Use an MLP for both your generator and your discriminator, and train until the generated distribution resembles the target distribution.\n",
        "* 3 layers\n",
        "* 128 hidden dim\n",
        "* LeakyReLU nonlinearities with negative_slope=0.2"
      ]
    },
    {
      "cell_type": "markdown",
      "metadata": {
        "id": "rKl7kyUPwPSJ"
      },
      "source": [
        "### Solution"
      ]
    },
    {
      "cell_type": "code",
      "execution_count": 9,
      "metadata": {},
      "outputs": [],
      "source": [
        "class Generator(nn.Module):\n",
        "    def __init__(self):\n",
        "        super(Generator, self).__init__()\n",
        "        self.gen = nn.Sequential(\n",
        "            nn.Linear(1, 128),\n",
        "            nn.LeakyReLU(0.2),\n",
        "            nn.Linear(128, 128),\n",
        "            nn.LeakyReLU(0.2),\n",
        "            nn.Linear(128, 1),\n",
        "            nn.Tanh(),\n",
        "        )\n",
        "    def forward(self, x):\n",
        "        return self.gen(x)\n",
        "\n",
        "class Discriminator(nn.Module):\n",
        "    def __init__(self):\n",
        "        super(Discriminator, self).__init__()\n",
        "        self.input = 2\n",
        "        self.dis = nn.Sequential(\n",
        "            nn.Linear(self.input, 128),\n",
        "            nn.LeakyReLU(0.2),\n",
        "            nn.Linear(128, 128),\n",
        "            nn.LeakyReLU(0.2),\n",
        "            nn.Linear(128, 1),\n",
        "            nn.Sigmoid(),\n",
        "        )\n",
        "    def forward(self, x):\n",
        "        return self.dis(x)"
      ]
    },
    {
      "cell_type": "code",
      "execution_count": 17,
      "metadata": {},
      "outputs": [],
      "source": [
        "device = torch.device(\"mps\") #torch.device(\"cuda:0\" if torch.cuda.is_available() else \"cpu\")\n",
        "\n",
        "generator = Generator().to(device)\n",
        "discriminator = Discriminator().to(device)"
      ]
    },
    {
      "cell_type": "code",
      "execution_count": 14,
      "metadata": {},
      "outputs": [],
      "source": [
        "opim_g = torch.optim.Adam(generator.parameters(), lr = 1e-3)\n",
        "opim_d = torch.optim.Adam(discriminator.parameters(), lr = 1e-3)\n",
        "\n",
        "criterion = nn.CrossEntropyLoss()"
      ]
    },
    {
      "cell_type": "code",
      "execution_count": 19,
      "metadata": {},
      "outputs": [],
      "source": [
        "def train_discriminator(optimizer, data_real, data_fake):\n",
        "    b_size = data_real.size(0)\n",
        "    real_label = torch.ones(b_size, 1).to(device)\n",
        "    fake_label = torch.zeros(b_size, 1).to(device)\n",
        "    optimizer.zero_grad()\n",
        "    output_real = discriminator(data_real)\n",
        "    loss_real = criterion(output_real, real_label)\n",
        "    output_fake = discriminator(data_fake)\n",
        "    loss_fake = criterion(output_fake, fake_label)\n",
        "    loss_real.backward()\n",
        "    loss_fake.backward()\n",
        "    optimizer.step()\n",
        "    return loss_real + loss_fake\n",
        "\n",
        "def train_generator(optimizer, data_fake):\n",
        "    b_size = data_fake.size(0)\n",
        "    real_label = torch.ones(b_size, 1).to(device)\n",
        "    optimizer.zero_grad()\n",
        "    output = discriminator(data_fake)\n",
        "    loss = criterion(output, real_label)\n",
        "    loss.backward()\n",
        "    optimizer.step()\n",
        "    return loss"
      ]
    },
    {
      "cell_type": "code",
      "execution_count": null,
      "metadata": {},
      "outputs": [],
      "source": [
        "def train_together():\n",
        "    generator.train()\n",
        "    discriminator.train()\n",
        "\n",
        "    for epoch in range(epochs):\n",
        "        loss_g = 0.0\n",
        "        loss_d = 0.0\n",
        "        for idx, data in tqdm(enumerate(train_loader), total = int(len(train_dataset)/train_loader.batch_size)):\n",
        "            value, _ = data\n",
        "            value = value.to(device)\n",
        "            b_size = len(value)\n",
        "            for step in range(k):\n",
        "                data_fake = generator(torch.randn(b_size, 1).to(device)).detach()\n",
        "                data_real = value\n",
        "                loss_d += train_discriminator(optim_d, data_real, data_fake)\n",
        "            data_fake = generator(torch.randn(b_size, 1).to(device))\n",
        "            loss_g += train_generator(optim_g, data_fake)\n",
        "        epoch_loss_g = loss_g / idx\n",
        "        epoch_loss_d = loss_d / idx\n",
        "        losses_g.append(epoch_loss_g)\n",
        "        losses_d.append(epoch_loss_d)\n",
        "\n"
      ]
    },
    {
      "cell_type": "code",
      "execution_count": null,
      "metadata": {
        "id": "pfyB3DFgKfA5"
      },
      "outputs": [],
      "source": [
        "def q1_a(train_data):\n",
        "    \"\"\"\n",
        "    train_data: An (20000, 1) numpy array of floats in [-1, 1]\n",
        "\n",
        "    Returns\n",
        "    - a (# of training iterations,) numpy array of discriminator losses evaluated every minibatch\n",
        "    - a numpy array of size (5000,) of samples drawn from your model at epoch #1\n",
        "    - a numpy array of size (1000,) linearly spaced from [-1, 1]; hint: np.linspace\n",
        "    - a numpy array of size (1000,), corresponding to the discriminator output (after sigmoid)\n",
        "        at each location in the previous array at epoch #1\n",
        "\n",
        "    - a numpy array of size (5000,) of samples drawn from your model at the end of training\n",
        "    - a numpy array of size (1000,) linearly spaced from [-1, 1]; hint: np.linspace\n",
        "    - a numpy array of size (1000,), corresponding to the discriminator output (after sigmoid)\n",
        "        at each location in the previous array at the end of training\n",
        "    \"\"\"\n",
        "\n",
        "    \"\"\" YOUR CODE HERE \"\"\""
      ]
    },
    {
      "cell_type": "markdown",
      "metadata": {
        "id": "KLrFM7TQwZkC"
      },
      "source": [
        "### Results"
      ]
    },
    {
      "cell_type": "code",
      "execution_count": null,
      "metadata": {
        "id": "icqjV8bEwfst"
      },
      "outputs": [],
      "source": [
        "q1_save_results('a', q1_a)"
      ]
    },
    {
      "cell_type": "markdown",
      "metadata": {
        "id": "2x4hfHRbZrDT"
      },
      "source": [
        "## Part 1(b)\n",
        "Here, we'll use the non-saturating formulation of the GAN objective. Now, we have two separate objectives:\n",
        "$$L^{(D)} = \\mathbb{E}_{x \\sim p_{data}} [\\log D(x)] + \\mathbb{E}_{z \\sim p(z)}[\\log (1-D(G(z)))]$$\n",
        "$$L^{(G)} = - \\mathbb{E}_{z \\sim p(z)} \\log(D(G(z)))$$"
      ]
    },
    {
      "cell_type": "markdown",
      "metadata": {
        "id": "_Uun1MzfwpuC"
      },
      "source": [
        " ### Solution"
      ]
    },
    {
      "cell_type": "code",
      "execution_count": null,
      "metadata": {
        "id": "MJeEgn6zZst0"
      },
      "outputs": [],
      "source": [
        "def q1_b(train_data):\n",
        "    \"\"\"\n",
        "    train_data: An (20000, 1) numpy array of floats in [-1, 1]\n",
        "\n",
        "    Returns\n",
        "    - a (# of training iterations,) numpy array of discriminator losses evaluated every minibatch\n",
        "    - a numpy array of size (5000,) of samples drawn from your model at epoch #1\n",
        "    - a numpy array of size (100,) linearly spaced from [-1, 1]; hint: np.linspace\n",
        "    - a numpy array of size (100,), corresponding to the discriminator output (after sigmoid)\n",
        "        at each location in the previous array at epoch #1\n",
        "\n",
        "    - a numpy array of size (5000,) of samples drawn from your model at the end of training\n",
        "    - a numpy array of size (1000,) linearly spaced from [-1, 1]; hint: np.linspace\n",
        "    - a numpy array of size (1000,), corresponding to the discriminator output (after sigmoid)\n",
        "        at each location in the previous array at the end of training\n",
        "    \"\"\"\n",
        "\n",
        "    \"\"\" YOUR CODE HERE \"\"\""
      ]
    },
    {
      "cell_type": "markdown",
      "metadata": {
        "id": "b0VSrZWzwrzT"
      },
      "source": [
        " ### Results"
      ]
    },
    {
      "cell_type": "code",
      "execution_count": null,
      "metadata": {
        "id": "xfv-DeVKwtXl"
      },
      "outputs": [],
      "source": [
        "q1_save_results('b', q1_b)"
      ]
    },
    {
      "cell_type": "markdown",
      "metadata": {
        "id": "sBESzChmEfcF"
      },
      "source": [
        "# Question 2: GANs on CIFAR-10 [35pt]"
      ]
    },
    {
      "cell_type": "markdown",
      "metadata": {
        "id": "ZLRdpUxy5jc0"
      },
      "source": [
        "In this exercise, you will train a GAN on CIFAR-10. Execute the cell below to visualize the dataset."
      ]
    },
    {
      "cell_type": "code",
      "execution_count": null,
      "metadata": {
        "id": "-WbafudL5mnz"
      },
      "outputs": [],
      "source": [
        "visualize_q2_data()"
      ]
    },
    {
      "cell_type": "markdown",
      "metadata": {
        "id": "vIYRnVafEkcd"
      },
      "source": [
        " We'll use the CIFAR-10 architecture from the [SN-GAN paper](https://arxiv.org/pdf/1802.05957.pdf) (see page 17), with $z \\in \\mathbb R ^{128}$, with $z \\sim \\mathcal N (0, I_{128})$. Instead of upsampling via transposed convolutions and downsampling via pooling or striding, we'll use these DepthToSpace and SpaceToDepth methods for changing the spatial configuration of our hidden states.\n",
        "\n",
        "```\n",
        "class DepthToSpace(nn.Module):\n",
        "    def __init__(self, block_size):\n",
        "        super().__init__()\n",
        "        self.block_size = block_size\n",
        "        self.block_size_sq = block_size * block_size\n",
        "\n",
        "    def forward(self, input):\n",
        "        output = input.permute(0, 2, 3, 1)\n",
        "        (batch_size, d_height, d_width, d_depth) = output.size()\n",
        "        s_depth = int(d_depth / self.block_size_sq)\n",
        "        s_width = int(d_width * self.block_size)\n",
        "        s_height = int(d_height * self.block_size)\n",
        "        t_1 = output.reshape(batch_size, d_height, d_width, self.block_size_sq, s_depth)\n",
        "        spl = t_1.split(self.block_size, 3)\n",
        "        stack = [t_t.reshape(batch_size, d_height, s_width, s_depth) for t_t in spl]\n",
        "        output = torch.stack(stack, 0).transpose(0, 1).permute(0, 2, 1, 3, 4).reshape(batch_size, s_height, s_width,\n",
        "                                                                                      s_depth)\n",
        "        output = output.permute(0, 3, 1, 2)\n",
        "        return output\n",
        "\n",
        "\n",
        "class SpaceToDepth(nn.Module):\n",
        "    def __init__(self, block_size):\n",
        "        super().__init__()\n",
        "        self.block_size = block_size\n",
        "        self.block_size_sq = block_size * block_size\n",
        "\n",
        "    def forward(self, input):\n",
        "        output = input.permute(0, 2, 3, 1)\n",
        "        (batch_size, s_height, s_width, s_depth) = output.size()\n",
        "        d_depth = s_depth * self.block_size_sq\n",
        "        d_width = int(s_width / self.block_size)\n",
        "        d_height = int(s_height / self.block_size)\n",
        "        t_1 = output.split(self.block_size, 2)\n",
        "        stack = [t_t.reshape(batch_size, d_height, d_depth) for t_t in t_1]\n",
        "        output = torch.stack(stack, 1)\n",
        "        output = output.permute(0, 2, 1, 3)\n",
        "        output = output.permute(0, 3, 1, 2)\n",
        "        return output\n",
        "\n",
        "# Spatial Upsampling with Nearest Neighbors\n",
        "Upsample_Conv2d(in_dim, out_dim, kernel_size=(3, 3), stride=1, padding=1):\n",
        "    x = torch.cat([x, x, x, x], dim=1)\n",
        "    DepthToSpace(block_size=2)\n",
        "    Conv2d(in_dim, out_dim, kernel_size, stride=stride, padding=padding)\n",
        "\n",
        "\n",
        "# Spatial Downsampling with Spatial Mean Pooling\n",
        "Downsample_Conv2d(in_dim, out_dim, kernel_size=(3, 3), stride=1, padding=1):\n",
        "        SpaceToDepth(2)\n",
        "        torch.sum(x.chunk(4, dim=1)) / 4.0\n",
        "        nn.Conv2d(in_dim, out_dim, kernel_size,\n",
        "                              stride=stride, padding=padding, bias=bias)\n",
        "```\n",
        "\n",
        "Here's pseudocode for how we'll implement a ResBlockUp, used in the generator:\n",
        "\n",
        "```\n",
        "ResnetBlockUp(x, in_dim, kernel_size=(3, 3), n_filters=256):\n",
        "    _x = x\n",
        "    _x = nn.BatchNorm2d(in_dim)(_x)\n",
        "    _x = nn.ReLU()(_x)\n",
        "    _x = nn.Conv2d(in_dim, n_filters, kernel_size, padding=1)(_x)\n",
        "    _x = nn.BatchNorm2d(n_filters)(_x)\n",
        "    _x = nn.ReLU()(_x)\n",
        "    residual = Upsample_Conv2d(n_filters, n_filters, kernel_size, padding=1)(_x)\n",
        "    shortcut = Upsample_Conv2d(in_dim, n_filters, kernel_size=(1, 1), padding=0)(x)\n",
        "    return residual + shortcut\n",
        "```\n",
        "The ResBlockDown module is similar, except it uses Downsample_Conv2d and omits the BatchNorm.\n",
        "\n",
        "Finally, here's the architecture for the generator:\n",
        "```\n",
        "def Generator(*, n_samples=1024, n_filters=128):\n",
        "    z = Normal(0, 1)([n_samples, 128])\n",
        "    nn.Linear(128, 4*4*256)\n",
        "    reshape output of linear layer\n",
        "    ResnetBlockUp(in_dim=256, n_filters=n_filters),\n",
        "    ResnetBlockUp(in_dim=n_filters, n_filters=n_filters),\n",
        "    ResnetBlockUp(in_dim=n_filters, n_filters=n_filters),\n",
        "    nn.BatchNorm2d(n_filters),\n",
        "    nn.ReLU(),\n",
        "    nn.Conv2d(n_filters, 3, kernel_size=(3, 3), padding=1),\n",
        "    nn.Tanh()\n",
        "```\n",
        "The discriminator (no BatchNorm!).\n",
        "```\n",
        "def Discriminator(*):\n",
        "    def __init__(self, n_filters=128):\n",
        "        ResnetBlockDown(3, n_filters=n_filters),\n",
        "        ResnetBlockDown(128, n_filters=n_filters),\n",
        "        ResBlock(n_filters, n_filters=n_filters),\n",
        "        ResBlock(n_filters, n_filters=n_filters),\n",
        "        nn.ReLU()\n",
        "        global sum pooling\n",
        "        nn.Linear(128, 1)\n",
        "```\n",
        "\n",
        "\n",
        "**Hyperparameters**\n",
        "\n",
        "We'll implement [WGAN-GP](https://arxiv.org/abs/1704.00028), which uses a gradient penalty to regularize the discriminator. Use the Adam optimizer with $\\alpha = 2e-4$, $\\beta_1 = 0$, $\\beta_2 = 0.9$, $\\lambda = 10$, $n_{critic} = 5$. Use a batch size of 256 and n_filters=128 within the ResBlocks. Train for at least 25000 gradient steps, with the learning rate linearly annealed to 0 over training.\n",
        "\n",
        "**You will provide the following deliverables**\n",
        "1. Inception score (CIFAR-10 version) of the final model. We provide a utility that will automatically do this for you.\n",
        "2. Fréchet inception distance (bonus, 5pts)\n",
        "3. Discriminator loss across training\n",
        "4. 100 samples."
      ]
    },
    {
      "cell_type": "markdown",
      "metadata": {
        "id": "WlY4YYyedBlR"
      },
      "source": [
        "## Solution"
      ]
    },
    {
      "cell_type": "markdown",
      "metadata": {
        "id": "Zze30tQO7IjK"
      },
      "source": [
        " ### Models"
      ]
    },
    {
      "cell_type": "code",
      "execution_count": null,
      "metadata": {
        "id": "e8UX3mGtdB1A"
      },
      "outputs": [],
      "source": [
        "def q2(train_data):\n",
        "    \"\"\"\n",
        "    train_data: An (n_train, 3, 32, 32) numpy array of CIFAR-10 images with values in [0, 1]\n",
        "\n",
        "    Returns\n",
        "    - a (# of training iterations,) numpy array of WGAN critic train losses evaluated every minibatch\n",
        "    - a (1000, 32, 32, 3) numpy array of samples from your model in [0, 1].\n",
        "        The first 100 will be displayed, and the rest will be used to calculate the Inception score.\n",
        "    \"\"\"\n",
        "\n",
        "    \"\"\" YOUR CODE HERE \"\"\"\n",
        "\n",
        "    return losses, samples"
      ]
    },
    {
      "cell_type": "markdown",
      "metadata": {
        "id": "UydRmPpLdEar"
      },
      "source": [
        "## Results"
      ]
    },
    {
      "cell_type": "code",
      "execution_count": null,
      "metadata": {
        "id": "uRgINbsJdbPH"
      },
      "outputs": [],
      "source": [
        "q2_save_results(q2)"
      ]
    },
    {
      "cell_type": "markdown",
      "metadata": {
        "id": "N3DUzaI-Cw3L"
      },
      "source": [
        "# Question 3 : Quantization with GANS [40pt]\n",
        "In this question, you'll train a variants of the VQGAN model to learn a mapping between image and a discrete codebook. We will do this on the CIFAR10 dataset."
      ]
    },
    {
      "cell_type": "markdown",
      "metadata": {
        "id": "VsGq3q-0Cw3L"
      },
      "source": [
        "## Part a: Vanilla VQGAN [25]\n",
        "[VQGAN](https://github.com/CompVis/taming-transformers) extends the ideas from VQVAE by adding an additional GAN loss. Review HW 2 for more details on VQVAE, and may use your code from HW 2 (or HW2 solutions) to help with this question. Conceptually, the training procedure is the same as VQVAE, but with the addition of a discriminator network and its training.\n",
        "\n",
        "Following the original VQGAN paper, we will use a patch-based discriminator. Split the image into 8x8 patches, which will be then fed into the discriminator. For the discrimiator you can use an architecture similar to the one used in the previous questions.\n",
        "```\n",
        "def Discriminator(*, n_filters=128):\n",
        "    split to 8x8 patches\n",
        "    ResnetBlockDown(3, n_filters=n_filters),\n",
        "    ResnetBlockDown(128, n_filters=n_filters),\n",
        "    ResBlock(n_filters, n_filters=n_filters),\n",
        "    ResBlock(n_filters, n_filters=n_filters),\n",
        "    nn.ReLU()\n",
        "    global sum pooling\n",
        "    nn.Linear(128, 1)\n",
        "```\n",
        "\n",
        "**Loss function**\n",
        "We will use the loss function of\n",
        "\n",
        "$L = L_{VQ} + 0.1 L_{GAN} + 0.5 L_{perceptual} + L_2$\n",
        "\n",
        "Where $L_{VQ}$ is the VQ objective, $L_{GAN}$ is the GAN loss, $L_{perceptual}$ is the perceptual loss.\n",
        "\n",
        "For pytorch users, we provide the LPIPS loss from the original taming transformers paper ([found here](https://github.com/CompVis/taming-transformers/blob/master/taming/modules/losses/lpips.py)). An example of using the LPIPS loss is found below. If you are using a different framework, feel free to use any off the shelf code, just make sure to cite where you take it from.\n",
        "\n",
        "Instead of using the adaptive weight on the GAN loss, we will use a fixed weight of 0.1.\n",
        "* train for at least 15 epochs\n",
        "* use a codebook size of 1024\n",
        "* use Adam with betas=(0.5, 0.9) and 0 weight decay for both optimizers\n",
        "* use the non-saturating formulation of the GAN objective.\n",
        "\n",
        "**You will provide the following deliverables**\n",
        "1. Final L2 reconstruction loss\n",
        "2. Discriminator loss across training\n",
        "3. $L_{perceptual}$ loss across training\n",
        "4. Training l2 loss across training\n",
        "5. Validation l2 reconstruction loss across training, evaluated at the end of every epoch\n",
        "6. 100 reconstructions of the validation set."
      ]
    },
    {
      "cell_type": "code",
      "execution_count": null,
      "metadata": {
        "id": "eXB33DYVCw3L"
      },
      "outputs": [],
      "source": [
        "# example usage of the LPIPS loss\n",
        "from deepul.hw3_utils.lpips import LPIPS\n",
        "loss = LPIPS()\n",
        "x = torch.zeros(4, 3, 32, 32)\n",
        "print(loss(x, x).mean())"
      ]
    },
    {
      "cell_type": "code",
      "execution_count": null,
      "metadata": {
        "id": "AT_yyexjCw3M"
      },
      "outputs": [],
      "source": [
        "def q3a(train_data, val_data, reconstruct_data):\n",
        "    \"\"\"\n",
        "    train_data: An (n_train, 3, 32, 32) numpy array of CIFAR-10 images with values in [0, 1]\n",
        "    val_data: An (n_train, 3, 32, 32) numpy array of CIFAR-10 images with values in [0, 1]\n",
        "    reconstruct_data: An (100, 3, 32, 32) numpy array of CIFAR-10 images with values in [0, 1]. To be used for reconstruction\n",
        "\n",
        "    Returns\n",
        "    - a (# of training iterations,) numpy array of the discriminator train losses evaluated every minibatch\n",
        "    - None or a (# of training iterations,) numpy array of the perceptual train losses evaluated every minibatch\n",
        "    - a (# of training iterations,) numpy array of the l2 reconstruction evaluated every minibatch\n",
        "    - a (# of epochs + 1,) numpy array of l2 reconstruction loss evaluated once at initialization and after each epoch on the val_data\n",
        "    - a (100, 32, 32, 3) numpy array of reconstructions from your model in [0, 1] on the reconstruct_data.\n",
        "    \"\"\"\n",
        "\n",
        "    \"\"\" YOUR CODE HERE \"\"\"\n",
        "\n",
        "    return discriminator_losses, l_pips_losses, l2_recon_train, l2_recon_test, reconstructions"
      ]
    },
    {
      "cell_type": "code",
      "execution_count": null,
      "metadata": {
        "id": "dOZmMQZaCw3M"
      },
      "outputs": [],
      "source": [
        "q3_save_results(q3a, \"a\") # with pips"
      ]
    },
    {
      "cell_type": "markdown",
      "metadata": {
        "id": "AZcfmgvwCw3M"
      },
      "source": [
        "## Part b: VIT-VQGAN [15]\n",
        "In this part, you will replace the encoder and decoder in the VQGAN with a Vision Transformer (ViT) following the [Improved VQGAN paper](https://arxiv.org/abs/2110.04627). You may use pre-built ViT modules and/or transformers libraries for the purposes of this exercise. Split images into 4x4 patches which should give you 8x8 patches for each image.\n",
        "\n",
        "**Discriminator**\n",
        "In ViT-VQGAN, the patch-based discriminator is replaced with a full StyleGAN discriminator. For the purposes of this exercise, you should use the same discrimiator as described in part a but without splitting into patches. In addition add [spectral normalization](https://pytorch.org/docs/stable/generated/torch.nn.utils.spectral_norm.html#torch-nn-utils-spectral-norm) to all the conv and linear layers and use LeakyReLU instead of ReLU, following [SN-GANs](https://arxiv.org/abs/1802.05957). This is to help with training stability.\n",
        "```\n",
        "def Discriminator(*, n_filters=128):\n",
        "    # all conv layers in the ResBlocks should have spectral normalization\n",
        "    ResnetBlockDown(3, n_filters=n_filters),\n",
        "    ResnetBlockDown(128, n_filters=n_filters),\n",
        "    ResBlock(n_filters, n_filters=n_filters),\n",
        "    ResBlock(n_filters, n_filters=n_filters),\n",
        "    nn.LeakyReLU()\n",
        "    global sum pooling\n",
        "    nn.Linear(128, 1)\n",
        "```\n",
        "* in addition add\n",
        "\n",
        "**Loss function**\n",
        "$L = L_{VQ} + 0.1 L_{GAN} + \\alpha L_{perceptual} + L_2 + 0.1 L_1$\n",
        "\n",
        "The ViT-VQGAN paper introduces a new loss term $L_{Logit\\_laplace}$ which is a logit laplace loss. For simplicity, we will use an L1 loss instead.\n",
        "\n",
        "If you implemented the perceptual loss in the previous part, you can use the same perceptual loss here, otherwise you may keep $\\alpha = 0$.\n",
        "\n",
        "\n",
        "You should be able to largely be able to reuse your implementations in the previous part for this problem\n",
        "The only 3 updates you need are:\n",
        "* use ViT for encoder and decoder of VQVAE, use 4 layers, 8 heads, and 256 for the embedding size\n",
        "* add L1 loss\n",
        "* change the discrimiator to look at the full image\n",
        "\n",
        "**You will provide the following deliverables**\n",
        "1. Final L2 reconstruction loss\n",
        "2. Discriminator loss across training\n",
        "3. $L_{perceptual}$ loss across training\n",
        "4. Training l2 loss across training\n",
        "5. Validation l2 reconstruction loss across training, evaluated at the end of every epoch\n",
        "6. 100 reconstructions of the validation set.\n"
      ]
    },
    {
      "cell_type": "code",
      "execution_count": null,
      "metadata": {
        "id": "RYyv5aneCw3M"
      },
      "outputs": [],
      "source": [
        "def q3b(train_data, val_data, reconstruct_data):\n",
        "    \"\"\"\n",
        "    train_data: An (n_train, 3, 32, 32) numpy array of CIFAR-10 images with values in [0, 1]\n",
        "    val_data: An (n_train, 3, 32, 32) numpy array of CIFAR-10 images with values in [0, 1]\n",
        "    reconstruct_data: An (100, 3, 32, 32) numpy array of CIFAR-10 images with values in [0, 1]. To be used for reconstruction\n",
        "\n",
        "    Returns\n",
        "    - a (# of training iterations,) numpy array of the discriminator train losses evaluated every minibatch\n",
        "    - None or a (# of training iterations,) numpy array of the perceptual train losses evaluated every minibatch\n",
        "    - a (# of training iterations,) numpy array of the l2 reconstruction evaluated every minibatch\n",
        "    - a (# of epochs + 1,) numpy array of l2 reconstruction loss evaluated once at initialization and after each epoch on the val_data\n",
        "    - a (100, 32, 32, 3) numpy array of reconstructions from your model in [0, 1] on the reconstruct_data.\n",
        "    \"\"\"\n",
        "\n",
        "    \"\"\" YOUR CODE HERE \"\"\"\n",
        "\n",
        "    return discriminator_losses, l_pips_losses, l2_recon_train, l2_recon_test, reconstructions"
      ]
    },
    {
      "cell_type": "code",
      "execution_count": null,
      "metadata": {
        "id": "7CBQ5EaPCw3M"
      },
      "outputs": [],
      "source": [
        "q3_save_results(q3b, \"b\")"
      ]
    },
    {
      "cell_type": "markdown",
      "metadata": {
        "id": "92f0jUFadqml"
      },
      "source": [
        "# Question 4 (Bonus): CycleGAN [20pt]\n",
        "In this question, you'll train a CycleGAN model to learn to translate between two different image domains, without any paired data. Execute the following cell to visualize our two datasets: MNIST and Colored MNIST."
      ]
    },
    {
      "cell_type": "code",
      "execution_count": null,
      "metadata": {
        "id": "Y3qFm_JfObPj"
      },
      "outputs": [],
      "source": [
        "visualize_cyclegan_datasets()"
      ]
    },
    {
      "cell_type": "markdown",
      "metadata": {
        "id": "0Za8w7ddOdh7"
      },
      "source": [
        "In [CycleGAN](https://arxiv.org/pdf/1703.10593.pdf), the goal is to learn functions $F$ and $G$ that can transform images from $X \\rightarrow Y$ and vice-versa. This is an unconstrained problem, so we additionally enforce the *cycle-consistency* property, where we want\n",
        "$$x \\approx G(F(x))$$\n",
        "and  \n",
        "$$y \\approx F(G(x))$$\n",
        "This loss function encourages $F$ and $G$ to approximately invert each other. In addition to this cycle-consistency loss, we also have a standard GAN loss such that $F(x)$ and $G(y)$ look like real images from the other domain.\n",
        "\n",
        "Since this is a bonus question, we won't do much hand-holding. We recommend reading through the original paper to get a sense of what architectures and hyperparameters are useful. Note that our datasets are fairly simple, so you won't need excessively large models.\n",
        "\n",
        "**You will report the following deliverables**\n",
        "1. A set of images showing real MNIST digits, transformations of those images into Colored MNIST digits, and reconstructions back into the greyscale domain.\n",
        "2. A set of images showing real Colored MNIST digits, transformations of those images, and reconstructions."
      ]
    },
    {
      "cell_type": "markdown",
      "metadata": {
        "id": "8adRfm9vPnen"
      },
      "source": [
        "## Solution"
      ]
    },
    {
      "cell_type": "code",
      "execution_count": null,
      "metadata": {
        "id": "B99F5FjbPqtl"
      },
      "outputs": [],
      "source": [
        "def q4(mnist_data, cmnist_data):\n",
        "    \"\"\"\n",
        "    mnist_data: An (60000, 1, 28, 28) numpy array of black and white images with values in [0, 1]\n",
        "    cmnist_data: An (60000, 3, 28, 28) numpy array of colored images with values in [0, 1]\n",
        "\n",
        "    Returns\n",
        "    - a (20, 28, 28, 1) numpy array of real MNIST digits, in [0, 1]\n",
        "    - a (20, 28, 28, 3) numpy array of translated Colored MNIST digits, in [0, 1]\n",
        "    - a (20, 28, 28, 1) numpy array of reconstructed MNIST digits, in [0, 1]\n",
        "\n",
        "    - a (20, 28, 28, 3) numpy array of real Colored MNIST digits, in [0, 1]\n",
        "    - a (20, 28, 28, 1) numpy array of translated MNIST digits, in [0, 1]\n",
        "    - a (20, 28, 28, 3) numpy array of reconstructed Colored MNIST digits, in [0, 1]\n",
        "    \"\"\"\n",
        "    \"\"\" YOUR CODE HERE \"\"\""
      ]
    },
    {
      "cell_type": "markdown",
      "metadata": {
        "id": "NIO0hzZ8PpPr"
      },
      "source": [
        "## Results"
      ]
    },
    {
      "cell_type": "code",
      "execution_count": null,
      "metadata": {
        "id": "-hlvbDvUOxp6"
      },
      "outputs": [],
      "source": [
        "q4_save_results(q4)"
      ]
    }
  ],
  "metadata": {
    "accelerator": "GPU",
    "colab": {
      "provenance": []
    },
    "kernelspec": {
      "display_name": "Python 3 (ipykernel)",
      "language": "python",
      "name": "python3"
    },
    "language_info": {
      "codemirror_mode": {
        "name": "ipython",
        "version": 3
      },
      "file_extension": ".py",
      "mimetype": "text/x-python",
      "name": "python",
      "nbconvert_exporter": "python",
      "pygments_lexer": "ipython3",
      "version": "3.9.6"
    }
  },
  "nbformat": 4,
  "nbformat_minor": 0
}
